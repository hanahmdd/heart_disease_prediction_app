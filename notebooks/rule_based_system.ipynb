{
 "cells": [
  {
   "cell_type": "code",
   "execution_count": 5,
   "metadata": {},
   "outputs": [],
   "source": [
    "from experta import Fact, KnowledgeEngine, Rule, DefFacts\n",
    "\n",
    "class HeartDiseaseRules(KnowledgeEngine):\n",
    "    @DefFacts()\n",
    "    def _initial_facts(self):\n",
    "        yield Fact(action=\"find_risk\")\n",
    "\n",
    "    # Rule 1: High cholesterol and age > 50\n",
    "    @Rule(Fact(cholesterol=lambda x: x > 240), Fact(age=lambda x: x > 50))\n",
    "    def high_risk_rule1(self):\n",
    "        self.declare(Fact(risk=\"high\"))\n",
    "\n",
    "    # Rule 2: High blood pressure and smoking\n",
    "    @Rule(Fact(trestbps=lambda x: x > 140), Fact(smoking=\"Yes\"))\n",
    "    def high_risk_rule2(self):\n",
    "        self.declare(Fact(risk=\"high\"))\n",
    "\n",
    "    # Rule 3: Regular exercise and BMI < 25\n",
    "    @Rule(Fact(exercise=\"Regular\"), Fact(BMI=lambda x: x < 25))\n",
    "    def low_risk_rule3(self):\n",
    "        self.declare(Fact(risk=\"low\"))\n",
    "\n",
    "    # Add more rules here...\n",
    "\n",
    "# Save rules to a Python file\n",
    "with open(\"../rule_based_system/rules.py\", \"w\") as f:\n",
    "    f.write(\"\"\"\n",
    "from experta import Fact, KnowledgeEngine, Rule, DefFacts\n",
    "\n",
    "class HeartDiseaseRules(KnowledgeEngine):\n",
    "    @DefFacts()\n",
    "    def _initial_facts(self):\n",
    "        yield Fact(action=\"find_risk\")\n",
    "\n",
    "    @Rule(Fact(cholesterol=lambda x: x > 240), Fact(age=lambda x: x > 50))\n",
    "    def high_risk_rule1(self):\n",
    "        self.declare(Fact(risk=\"high\"))\n",
    "\n",
    "    @Rule(Fact(trestbps=lambda x: x > 140), Fact(smoking=\"Yes\"))\n",
    "    def high_risk_rule2(self):\n",
    "        self.declare(Fact(risk=\"high\"))\n",
    "\n",
    "    @Rule(Fact(exercise=\"Regular\"), Fact(BMI=lambda x: x < 25))\n",
    "    def low_risk_rule3(self):\n",
    "        self.declare(Fact(risk=\"low\"))\n",
    "    \"\"\")"
   ]
  }
 ],
 "metadata": {
  "kernelspec": {
   "display_name": "Python 3",
   "language": "python",
   "name": "python3"
  },
  "language_info": {
   "codemirror_mode": {
    "name": "ipython",
    "version": 3
   },
   "file_extension": ".py",
   "mimetype": "text/x-python",
   "name": "python",
   "nbconvert_exporter": "python",
   "pygments_lexer": "ipython3",
   "version": "3.9.0"
  }
 },
 "nbformat": 4,
 "nbformat_minor": 2
}
