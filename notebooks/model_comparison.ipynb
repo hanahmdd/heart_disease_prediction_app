{
 "cells": [
  {
   "cell_type": "code",
   "execution_count": 2,
   "metadata": {},
   "outputs": [],
   "source": [
    "import pandas as pd\n",
    "from sklearn.metrics import accuracy_score\n",
    "import joblib\n",
    "\n",
    "# Load cleaned data\n",
    "df = pd.read_csv(\"../data/cleaned_data.csv\")\n",
    "\n",
    "# Load Decision Tree model\n",
    "model = joblib.load(\"../ml_model/decision_tree_model.pkl\")\n",
    "\n",
    "# Compare models\n",
    "X = df.drop(\"target\", axis=1)\n",
    "y = df[\"target\"]\n",
    "y_pred = model.predict(X)\n",
    "accuracy = accuracy_score(y, y_pred)\n",
    "\n",
    "# Save comparison results\n",
    "results = pd.DataFrame({\n",
    "    \"Model\": [\"Decision Tree\"],\n",
    "    \"Accuracy\": [accuracy]\n",
    "})\n",
    "results.to_csv(\"../reports/accuracy_comparison.csv\", index=False)\n"
   ]
  }
 ],
 "metadata": {
  "kernelspec": {
   "display_name": "Python 3",
   "language": "python",
   "name": "python3"
  },
  "language_info": {
   "codemirror_mode": {
    "name": "ipython",
    "version": 3
   },
   "file_extension": ".py",
   "mimetype": "text/x-python",
   "name": "python",
   "nbconvert_exporter": "python",
   "pygments_lexer": "ipython3",
   "version": "3.9.0"
  }
 },
 "nbformat": 4,
 "nbformat_minor": 2
}
